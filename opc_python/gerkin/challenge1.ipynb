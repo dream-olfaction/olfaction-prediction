{
 "cells": [
  {
   "cell_type": "markdown",
   "metadata": {},
   "source": [
    "### Preliminaries"
   ]
  },
  {
   "cell_type": "code",
   "execution_count": 1,
   "metadata": {
    "collapsed": false
   },
   "outputs": [],
   "source": [
    "# Autoreload all modules when changes are saved. \n",
    "%reload_ext autoreload\n",
    "%autoreload 2  \n",
    "\n",
    "# Show all figures inline.  \n",
    "%matplotlib inline\n",
    "\n",
    "# Add olfaction-prediction to the Python path.  \n",
    "import os\n",
    "import sys\n",
    "curr_path = os.getcwd()\n",
    "gerkin_path = os.path.split(curr_path)[0]\n",
    "olfaction_prediction_path = os.path.split(gerkin_path)[0]\n",
    "sys.path.append(olfaction_prediction_path)\n",
    "import opc_python\n",
    "\n",
    "# Import numerical libraries.  \n",
    "import numpy as np\n",
    "import matplotlib.pyplot as plt"
   ]
  },
  {
   "cell_type": "code",
   "execution_count": 2,
   "metadata": {
    "collapsed": false
   },
   "outputs": [],
   "source": [
    "# Import generic utility modules I wrote to load the data from the tab-delimited text files and to score predictions.  \n",
    "from opc_python.utils import loading, scoring\n",
    "\n",
    "# Import the modules I wrote for actually shaping and fitting the data to the model.  \n",
    "from opc_python.gerkin import dream,fit1"
   ]
  },
  {
   "cell_type": "code",
   "execution_count": 3,
   "metadata": {
    "collapsed": false
   },
   "outputs": [
    {
     "name": "stdout",
     "output_type": "stream",
     "text": [
      "['Compound Identifier', 'Odor', 'Replicate', 'Intensity', 'Dilution', 'subject #', 'INTENSITY/STRENGTH', 'VALENCE/PLEASANTNESS', 'BAKERY', 'SWEET', 'FRUIT', 'FISH', 'GARLIC', 'SPICES', 'COLD', 'SOUR', 'BURNT', 'ACID', 'WARM', 'MUSKY', 'SWEATY', 'AMMONIA/URINOUS', 'DECAYED', 'WOOD', 'GRASS', 'FLOWER', 'CHEMICAL']\n"
     ]
    }
   ],
   "source": [
    "# Load the perceptual descriptors data.  \n",
    "perceptual_headers, perceptual_obs_data = loading.load_perceptual_data('training')\n",
    "loading.format_leaderboard_perceptual_data()\n",
    "# Show the perceptual metadata types and perceptual descriptor names.\n",
    "print(perceptual_headers)"
   ]
  },
  {
   "cell_type": "code",
   "execution_count": 4,
   "metadata": {
    "collapsed": false
   },
   "outputs": [
    {
     "name": "stdout",
     "output_type": "stream",
     "text": [
      "['126', '4-Hydroxybenzaldehyde', False, 'high', '1/10', '1', 37, 60, 0, 72, 0, 0, 0, 0, 0, 0, 0, 0, 0, 0, 0, 0, 0, 0, 0, 0, 0]\n"
     ]
    }
   ],
   "source": [
    "# Show the metadata and perceptual descriptor values for the first compound.\n",
    "print(perceptual_obs_data[1])"
   ]
  },
  {
   "cell_type": "code",
   "execution_count": 5,
   "metadata": {
    "collapsed": false
   },
   "outputs": [
    {
     "name": "stdout",
     "output_type": "stream",
     "text": [
      "There are 21 different perceptual descriptors and 49 different subjects\n"
     ]
    }
   ],
   "source": [
    "num_descriptors = len(perceptual_headers[6:])\n",
    "assert num_descriptors == opc_python.NUM_DESCRIPTORS\n",
    "num_subjects = opc_python.NUM_SUBJECTS\n",
    "print('There are %d different perceptual descriptors and %d different subjects' % (num_descriptors,num_subjects))"
   ]
  },
  {
   "cell_type": "code",
   "execution_count": 6,
   "metadata": {
    "collapsed": false
   },
   "outputs": [
    {
     "name": "stdout",
     "output_type": "stream",
     "text": [
      "First ten molecular descriptor types are ['CID', 'complexity from pubmed', 'MW', 'AMW', 'Sv', 'Se', 'Sp', 'Si', 'Mv', 'Me']\n",
      "First ten descriptor values for the first compound are ['126', 93.1, 122.13, 8.142, 10.01, 15.305, 10.193, 16.664, 0.667, 1.02]\n",
      "We have molecular descriptors for 476 unique molecules\n"
     ]
    }
   ],
   "source": [
    "# Load the molecular descriptors data.  \n",
    "molecular_headers, molecular_data = loading.load_molecular_data()\n",
    "print(\"First ten molecular descriptor types are %s\" % molecular_headers[:10])\n",
    "print(\"First ten descriptor values for the first compound are %s\" % molecular_data[0][:10])\n",
    "total_size = len(set([int(row[0]) for row in molecular_data]))\n",
    "print(\"We have molecular descriptors for %d unique molecules\" % total_size)"
   ]
  },
  {
   "cell_type": "code",
   "execution_count": 7,
   "metadata": {
    "collapsed": false
   },
   "outputs": [
    {
     "name": "stdout",
     "output_type": "stream",
     "text": [
      "We have perceptual data for 338 unique molecules\n",
      "138 are left out for testing in the competition; half of these (69) are used for the leaderboard.\n"
     ]
    }
   ],
   "source": [
    "training_size = len(set([int(row[0]) for row in perceptual_obs_data]))\n",
    "print(\"We have perceptual data for %d unique molecules\" % training_size)\n",
    "remaining_size = total_size - training_size\n",
    "print (\"%d are left out for testing in the competition; half of these (%d) are used for the leaderboard.\" \\\n",
    "       % (remaining_size,remaining_size/2))"
   ]
  },
  {
   "cell_type": "code",
   "execution_count": 8,
   "metadata": {
    "collapsed": false
   },
   "outputs": [
    {
     "name": "stdout",
     "output_type": "stream",
     "text": [
      "There are 35084 rows in the perceptual data set (at least one for each subject and molecule)\n",
      "1960 of these are replicates (same subject and molecules)\n"
     ]
    }
   ],
   "source": [
    "print(\"There are %d rows in the perceptual data set (at least one for each subject and molecule)\" % len(perceptual_obs_data))\n",
    "print(\"%d of these are replicates (same subject and molecules)\" % sum([x[2] for x in perceptual_obs_data]))"
   ]
  },
  {
   "cell_type": "markdown",
   "metadata": {},
   "source": [
    "### Create Molecular Matrix"
   ]
  },
  {
   "cell_type": "code",
   "execution_count": 9,
   "metadata": {
    "collapsed": false
   },
   "outputs": [
    {
     "name": "stdout",
     "output_type": "stream",
     "text": [
      "Getting CIDs and dilutions...\n",
      "Getting basic molecular data...\n",
      "Adding dilution data...\n",
      "There are now 676 molecular vectors of length 4871, one for each molecule and dilution\n",
      "Building a matrix...\n",
      "The X matrix has shape (676x4871) (molecules by molecular descriptors)\n",
      "Purging data with too many NaNs...\n",
      "The X matrix has shape (676x4871) (molecules by good molecular descriptors)\n",
      "Imputing remaining NaN data...\n",
      "The X matrix now has shape (676x4871) (molecules by non-NaN good molecular descriptors)\n",
      "Purging data that is still bad, if any...\n",
      "The X matrix has shape (676x3033) (molecules by good molecular descriptors)\n",
      "Normalizing data for fitting...\n",
      "The X matrix now has shape (676x3033) molecules by non-NaN good molecular descriptors\n"
     ]
    },
    {
     "data": {
      "text/plain": [
       "(676, 3033)"
      ]
     },
     "execution_count": 9,
     "metadata": {},
     "output_type": "execute_result"
    }
   ],
   "source": [
    "X_training,good1,good2,means,stds,imputer = dream.make_X(molecular_data,\"training\")\n",
    "X_training.shape"
   ]
  },
  {
   "cell_type": "code",
   "execution_count": 10,
   "metadata": {
    "collapsed": false
   },
   "outputs": [
    {
     "name": "stdout",
     "output_type": "stream",
     "text": [
      "Getting CIDs and dilutions...\n",
      "Getting basic molecular data...\n",
      "Adding dilution data...\n",
      "There are now 69 molecular vectors of length 4871, one for each molecule and dilution\n",
      "Building a matrix...\n",
      "The X matrix has shape (69x4871) (molecules by molecular descriptors)\n",
      "Purging data with too many NaNs...\n",
      "The X matrix has shape (69x4871) (molecules by good molecular descriptors)\n",
      "Imputing remaining NaN data...\n",
      "The X matrix now has shape (69x4871) (molecules by non-NaN good molecular descriptors)\n",
      "Purging data that is still bad, if any...\n",
      "The X matrix has shape (69x3033) (molecules by good molecular descriptors)\n",
      "Normalizing data for fitting...\n",
      "The X matrix now has shape (69x3033) molecules by non-NaN good molecular descriptors\n"
     ]
    },
    {
     "data": {
      "text/plain": [
       "(69, 3033)"
      ]
     },
     "execution_count": 10,
     "metadata": {},
     "output_type": "execute_result"
    }
   ],
   "source": [
    "X_leaderboard_other,good1,good2,means,stds,imputer = dream.make_X(molecular_data,\"leaderboard\",target_dilution='high',good1=good1,good2=good2,means=means,stds=stds)\n",
    "X_leaderboard_other.shape"
   ]
  },
  {
   "cell_type": "code",
   "execution_count": 11,
   "metadata": {
    "collapsed": false
   },
   "outputs": [
    {
     "name": "stdout",
     "output_type": "stream",
     "text": [
      "Getting CIDs and dilutions...\n",
      "Getting basic molecular data...\n",
      "Adding dilution data...\n",
      "There are now 69 molecular vectors of length 4871, one for each molecule and dilution\n",
      "Building a matrix...\n",
      "The X matrix has shape (69x4871) (molecules by molecular descriptors)\n",
      "Purging data with too many NaNs...\n",
      "The X matrix has shape (69x4871) (molecules by good molecular descriptors)\n",
      "Imputing remaining NaN data...\n",
      "The X matrix now has shape (69x4871) (molecules by non-NaN good molecular descriptors)\n",
      "Purging data that is still bad, if any...\n",
      "The X matrix has shape (69x3033) (molecules by good molecular descriptors)\n",
      "Normalizing data for fitting...\n",
      "The X matrix now has shape (69x3033) molecules by non-NaN good molecular descriptors\n"
     ]
    },
    {
     "data": {
      "text/plain": [
       "(69, 3033)"
      ]
     },
     "execution_count": 11,
     "metadata": {},
     "output_type": "execute_result"
    }
   ],
   "source": [
    "X_leaderboard_int,good1,good2,means,stds,imputer = dream.make_X(molecular_data,\"leaderboard\",target_dilution=-3,good1=good1,good2=good2,means=means,stds=stds)\n",
    "X_leaderboard_int.shape"
   ]
  },
  {
   "cell_type": "code",
   "execution_count": 12,
   "metadata": {
    "collapsed": false
   },
   "outputs": [
    {
     "name": "stdout",
     "output_type": "stream",
     "text": [
      "Getting CIDs and dilutions...\n",
      "Getting basic molecular data...\n",
      "Adding dilution data...\n",
      "There are now 69 molecular vectors of length 4871, one for each molecule and dilution\n",
      "Building a matrix...\n",
      "The X matrix has shape (69x4871) (molecules by molecular descriptors)\n",
      "Purging data with too many NaNs...\n",
      "The X matrix has shape (69x4871) (molecules by good molecular descriptors)\n",
      "Imputing remaining NaN data...\n",
      "The X matrix now has shape (69x4871) (molecules by non-NaN good molecular descriptors)\n",
      "Purging data that is still bad, if any...\n",
      "The X matrix has shape (69x3033) (molecules by good molecular descriptors)\n",
      "Normalizing data for fitting...\n",
      "The X matrix now has shape (69x3033) molecules by non-NaN good molecular descriptors\n"
     ]
    },
    {
     "data": {
      "text/plain": [
       "(69, 3033)"
      ]
     },
     "execution_count": 12,
     "metadata": {},
     "output_type": "execute_result"
    }
   ],
   "source": [
    "X_testset_other,good1,good2,means,stds,imputer = dream.make_X(molecular_data,\"testset\",target_dilution='high',good1=good1,good2=good2,means=means,stds=stds)\n",
    "X_testset_other.shape"
   ]
  },
  {
   "cell_type": "code",
   "execution_count": 13,
   "metadata": {
    "collapsed": false
   },
   "outputs": [
    {
     "name": "stdout",
     "output_type": "stream",
     "text": [
      "Getting CIDs and dilutions...\n",
      "Getting basic molecular data...\n",
      "Adding dilution data...\n",
      "There are now 69 molecular vectors of length 4871, one for each molecule and dilution\n",
      "Building a matrix...\n",
      "The X matrix has shape (69x4871) (molecules by molecular descriptors)\n",
      "Purging data with too many NaNs...\n",
      "The X matrix has shape (69x4871) (molecules by good molecular descriptors)\n",
      "Imputing remaining NaN data...\n",
      "The X matrix now has shape (69x4871) (molecules by non-NaN good molecular descriptors)\n",
      "Purging data that is still bad, if any...\n",
      "The X matrix has shape (69x3033) (molecules by good molecular descriptors)\n",
      "Normalizing data for fitting...\n",
      "The X matrix now has shape (69x3033) molecules by non-NaN good molecular descriptors\n"
     ]
    },
    {
     "data": {
      "text/plain": [
       "(69, 3033)"
      ]
     },
     "execution_count": 13,
     "metadata": {},
     "output_type": "execute_result"
    }
   ],
   "source": [
    "X_testset_int,good1,good2,means,stds,imputer = dream.make_X(molecular_data,\"testset\",target_dilution=-3,good1=good1,good2=good2,means=means,stds=stds)\n",
    "X_testset_int.shape"
   ]
  },
  {
   "cell_type": "code",
   "execution_count": 14,
   "metadata": {
    "collapsed": false
   },
   "outputs": [
    {
     "name": "stdout",
     "output_type": "stream",
     "text": [
      "Getting CIDs and dilutions...\n",
      "Getting basic molecular data...\n",
      "Adding dilution data...\n",
      "There are now 814 molecular vectors of length 4871, one for each molecule and dilution\n",
      "Building a matrix...\n",
      "The X matrix has shape (814x4871) (molecules by molecular descriptors)\n",
      "Purging data with too many NaNs...\n",
      "The X matrix has shape (814x4871) (molecules by good molecular descriptors)\n",
      "Imputing remaining NaN data...\n",
      "The X matrix now has shape (814x4871) (molecules by non-NaN good molecular descriptors)\n",
      "Purging data that is still bad, if any...\n",
      "The X matrix has shape (814x3033) (molecules by good molecular descriptors)\n",
      "Normalizing data for fitting...\n",
      "The X matrix now has shape (814x3033) molecules by non-NaN good molecular descriptors\n"
     ]
    },
    {
     "data": {
      "text/plain": [
       "(814, 3033)"
      ]
     },
     "execution_count": 14,
     "metadata": {},
     "output_type": "execute_result"
    }
   ],
   "source": [
    "X_all,good1,good2,means,stds,imputer = dream.make_X(molecular_data,[\"training\",\"leaderboard\"],good1=good1,good2=good2,means=means,stds=stds)\n",
    "X_all.shape"
   ]
  },
  {
   "cell_type": "code",
   "execution_count": 15,
   "metadata": {
    "collapsed": false
   },
   "outputs": [
    {
     "name": "stdout",
     "output_type": "stream",
     "text": [
      "Getting basic perceptual data...\n",
      "Flattening into vectors...\n",
      "Assembling into matrices...\n",
      "Y_obs['subject'] contains 49 matrices each with shape (676x21) (molecules by perceptual descriptors)\n",
      "The Y_obs['mean_std'] matrix has shape (676x42) (molecules by 2 x perceptual descriptors)\n",
      "Combining Y matrices...\n",
      "The Y['mean_std'] matrix now has shape (676x42) molecules by 2 x perceptual descriptors\n",
      "The Y['subject'] dict now has 49 matrices of shape (676x21) molecules by perceptual descriptors, one for each subject\n"
     ]
    }
   ],
   "source": [
    "Y_training,imputer = dream.make_Y_obs('training',target_dilution=None,imputer='median')"
   ]
  },
  {
   "cell_type": "code",
   "execution_count": 16,
   "metadata": {
    "collapsed": false
   },
   "outputs": [
    {
     "name": "stdout",
     "output_type": "stream",
     "text": [
      "Getting basic perceptual data...\n",
      "Flattening into vectors...\n",
      "Assembling into matrices...\n",
      "Y_obs['subject'] contains 49 matrices each with shape (69x21) (molecules by perceptual descriptors)\n",
      "The Y_obs['mean_std'] matrix has shape (69x42) (molecules by 2 x perceptual descriptors)\n",
      "Combining Y matrices...\n",
      "The Y['mean_std'] matrix now has shape (69x42) molecules by 2 x perceptual descriptors\n",
      "The Y['subject'] dict now has 49 matrices of shape (69x21) molecules by perceptual descriptors, one for each subject\n",
      "Getting basic perceptual data...\n",
      "Flattening into vectors...\n",
      "Assembling into matrices...\n",
      "Y_obs['subject'] contains 49 matrices each with shape (69x21) (molecules by perceptual descriptors)\n",
      "The Y_obs['mean_std'] matrix has shape (69x42) (molecules by 2 x perceptual descriptors)\n",
      "Combining Y matrices...\n",
      "The Y['mean_std'] matrix now has shape (69x42) molecules by 2 x perceptual descriptors\n",
      "The Y['subject'] dict now has 49 matrices of shape (69x21) molecules by perceptual descriptors, one for each subject\n"
     ]
    }
   ],
   "source": [
    "Y_leaderboard,imputer = dream.make_Y_obs('leaderboard',target_dilution='gold',imputer='mask')"
   ]
  },
  {
   "cell_type": "code",
   "execution_count": 17,
   "metadata": {
    "collapsed": false
   },
   "outputs": [
    {
     "name": "stdout",
     "output_type": "stream",
     "text": [
      "Getting basic perceptual data...\n",
      "Flattening into vectors...\n",
      "Assembling into matrices...\n",
      "Y_obs['subject'] contains 49 matrices each with shape (676x21) (molecules by perceptual descriptors)\n",
      "The Y_obs['mean_std'] matrix has shape (676x42) (molecules by 2 x perceptual descriptors)\n",
      "Getting basic perceptual data...\n",
      "Flattening into vectors...\n",
      "Assembling into matrices...\n",
      "Y_obs['subject'] contains 49 matrices each with shape (138x21) (molecules by perceptual descriptors)\n",
      "The Y_obs['mean_std'] matrix has shape (138x42) (molecules by 2 x perceptual descriptors)\n",
      "Combining Y matrices...\n",
      "The Y['mean_std'] matrix now has shape (814x42) molecules by 2 x perceptual descriptors\n",
      "The Y['subject'] dict now has 49 matrices of shape (814x21) molecules by perceptual descriptors, one for each subject\n"
     ]
    }
   ],
   "source": [
    "Y_all_imp,imputer = dream.make_Y_obs(['training','leaderboard'],target_dilution=None,imputer='median')"
   ]
  },
  {
   "cell_type": "markdown",
   "metadata": {},
   "source": [
    "### Data preparation"
   ]
  },
  {
   "cell_type": "code",
   "execution_count": 18,
   "metadata": {
    "collapsed": false
   },
   "outputs": [
    {
     "data": {
      "text/plain": [
       "<matplotlib.text.Text at 0x110ad3470>"
      ]
     },
     "execution_count": 18,
     "metadata": {},
     "output_type": "execute_result"
    },
    {
     "data": {
      "image/png": "[encoded data removed]",
      "text/plain": [
       "<matplotlib.figure.Figure at 0x110bcfb00>"
      ]
     },
     "metadata": {},
     "output_type": "display_data"
    },
    {
     "data": {
      "image/png": "[encoded data removed]",
      "text/plain": [
       "<matplotlib.figure.Figure at 0x1109b4cc0>"
      ]
     },
     "metadata": {},
     "output_type": "display_data"
    }
   ],
   "source": [
    "# Show the range of values for the molecular and perceptual descriptors.  \n",
    "plt.hist(X_training.ravel())\n",
    "plt.yscale('log')\n",
    "plt.ylabel('Count')\n",
    "plt.xlabel('Cube root transformed, N(0,1) normalized molecular descriptor values')\n",
    "plt.figure()\n",
    "plt.hist(np.dstack([Y_training['subject'][subject] for subject in range(1,50)]).ravel())\n",
    "plt.yscale('log')\n",
    "plt.ylabel('Count')\n",
    "plt.xlabel('Perceptual descriptor values')"
   ]
  },
  {
   "cell_type": "markdown",
   "metadata": {},
   "source": [
    "## Fitting and Generating Submission Files"
   ]
  },
  {
   "cell_type": "code",
   "execution_count": 19,
   "metadata": {
    "collapsed": false
   },
   "outputs": [],
   "source": [
    "write = True # Set to True to actually generate the prediction files.  \n",
    "n_estimators = 1 # Set this to a high number (e.g. 1000) to get a good fit.  \n",
    "\n",
    "# Best parameters, determined independently.  \n",
    "max_features = {'int':None,\n",
    "                'ple':100,\n",
    "                'dec':500}\n",
    "min_samples_leaf = {'int':1,\n",
    "                'ple':1,\n",
    "                'dec':1}\n",
    "max_depth = {'int':None,\n",
    "                'ple':10,\n",
    "                'dec':10}\n",
    "et = {'int':True,\n",
    "      'ple':False,\n",
    "      'dec':False,}"
   ]
  },
  {
   "cell_type": "code",
   "execution_count": 20,
   "metadata": {
    "collapsed": false
   },
   "outputs": [
    {
     "name": "stderr",
     "output_type": "stream",
     "text": [
      "/Users/rgerkin/Dropbox/python3/lib/python3.4/site-packages/sklearn/ensemble/forest.py:659: UserWarning: Some inputs do not have OOB scores. This probably means too few trees were used to compute any reliable oob estimates.\n",
      "  warn(\"Some inputs do not have OOB scores. \"\n",
      "/Users/rgerkin/Dropbox/python3/lib/python3.4/site-packages/numpy/ma/core.py:3900: UserWarning: Warning: converting a masked element to nan.\n",
      "  warnings.warn(\"Warning: converting a masked element to nan.\")\n"
     ]
    },
    {
     "name": "stdout",
     "output_type": "stream",
     "text": [
      "For subchallenge 1:\n",
      "\tScore = 20.48\n",
      "\tint = 0.887\n",
      "\tple = 0.006\n",
      "\tdec = 0.057\n"
     ]
    }
   ],
   "source": [
    "# Fit training data.  Ignoring warning that arises if too few trees are used.  \n",
    "rfcs_leaderboard,score,rs = fit1.rfc_final(X_training,Y_training['subject'],\n",
    "                            max_features,min_samples_leaf,max_depth,et,\n",
    "                            n_estimators=n_estimators)"
   ]
  },
  {
   "cell_type": "code",
   "execution_count": 21,
   "metadata": {
    "collapsed": false
   },
   "outputs": [
    {
     "name": "stdout",
     "output_type": "stream",
     "text": [
      "Score: 7.753835; rs = 0.366,0.014,0.012\n",
      "Wrote to file with suffix \"1438292055\"\n",
      "[[ 42.34285714  41.54686476   5.60843328 ...,   1.36483409   2.51090596\n",
      "   36.7407241 ]\n",
      " [ 63.61428571  52.96721905   9.40142823 ...,   1.08847263   2.76405341\n",
      "    9.3366509 ]\n",
      " [ 28.78571429  43.99913367   2.56798586 ...,   4.06749305   2.84697298\n",
      "    6.32797077]\n",
      " ..., \n",
      " [ 35.12857143  46.47263823   1.10357054 ...,   1.1367706    3.71459703\n",
      "    4.86671283]\n",
      " [ 58.22857143  36.89306377   1.18494164 ...,   1.15328195   4.16433411\n",
      "   33.5160842 ]\n",
      " [ 42.32857143  50.20143482   0.44057502 ...,   1.47910459   5.76158787\n",
      "   10.20000581]]\n"
     ]
    },
    {
     "name": "stderr",
     "output_type": "stream",
     "text": [
      "/Users/rgerkin/Dropbox/python3/lib/python3.4/site-packages/numpy/ma/core.py:790: RuntimeWarning: invalid value encountered in greater_equal\n",
      "  return umath.absolute(a) * self.tolerance >= umath.absolute(b)\n",
      "/Users/rgerkin/Dropbox/python3/lib/python3.4/site-packages/numpy/ma/core.py:814: RuntimeWarning: invalid value encountered in less\n",
      "  return umath.less(x, self.critical_value)\n"
     ]
    }
   ],
   "source": [
    "_ = loading.make_prediction_files(rfcs_leaderboard,X_leaderboard_int,X_leaderboard_other,'leaderboard',1,Y_test=Y_leaderboard,write=write)\n",
    "print(_['subject'][1]) # Print values for subject 1 to make sure it looks right.  "
   ]
  },
  {
   "cell_type": "code",
   "execution_count": 22,
   "metadata": {
    "collapsed": false
   },
   "outputs": [
    {
     "name": "stdout",
     "output_type": "stream",
     "text": [
      "For subchallenge 1:\n",
      "\tScore = 20.76\n",
      "\tint = 0.886\n",
      "\tple = 0.013\n",
      "\tdec = 0.059\n"
     ]
    }
   ],
   "source": [
    "rfcs,score,rs = fit1.rfc_final(X_all,Y_all_imp['subject'],\n",
    "                            max_features,min_samples_leaf,max_depth,et,\n",
    "                            n_estimators=n_estimators)"
   ]
  },
  {
   "cell_type": "code",
   "execution_count": 23,
   "metadata": {
    "collapsed": false
   },
   "outputs": [
    {
     "name": "stdout",
     "output_type": "stream",
     "text": [
      "[[ 31.31428571  55.12729367   1.39366823 ...,   1.17580306   0.68461336\n",
      "    9.72754892]\n",
      " [ 20.54285714  32.68542694   0.41039512 ...,   0.70340494   0.95115047\n",
      "    5.70160495]\n",
      " [ 61.68571429  43.21221689   1.09082746 ...,   0.38090923   1.4155555\n",
      "    8.54622266]\n",
      " ..., \n",
      " [ 58.31428571  45.57401416   2.34636267 ...,   4.09689815   4.96473808\n",
      "   10.40972326]\n",
      " [ 18.65714286  47.24555899   0.87964159 ...,   1.34618965   7.11336994\n",
      "    8.85424796]\n",
      " [ 27.25714286  37.43448682   2.30880266 ...,   1.22476696   3.05726756\n",
      "   35.48864745]]\n"
     ]
    }
   ],
   "source": [
    "_ = loading.make_prediction_files(rfcs,X_testset_int,X_testset_other,'testset',1,write=False)\n",
    "print(_['subject'][1]) # Print values for subject 1 to make sure it looks right. "
   ]
  }
 ],
 "metadata": {
  "kernelspec": {
   "display_name": "Python 3",
   "language": "python",
   "name": "python3"
  },
  "language_info": {
   "codemirror_mode": {
    "name": "ipython",
    "version": 3
   },
   "file_extension": ".py",
   "mimetype": "text/x-python",
   "name": "python",
   "nbconvert_exporter": "python",
   "pygments_lexer": "ipython3",
   "version": "3.4.1"
  }
 },
 "nbformat": 4,
 "nbformat_minor": 0
}
