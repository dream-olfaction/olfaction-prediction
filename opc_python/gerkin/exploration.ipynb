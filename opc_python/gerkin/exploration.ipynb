{
 "cells": [
  {
   "cell_type": "markdown",
   "metadata": {},
   "source": [
    "### Here I show how I obtained certain parameter values and some ideas for improving the estimates.  "
   ]
  },
  {
   "cell_type": "code",
   "execution_count": 1,
   "metadata": {
    "collapsed": false
   },
   "outputs": [],
   "source": [
    "# Autoreload all modules when changes are saved. \n",
    "%reload_ext autoreload\n",
    "%autoreload 2  \n",
    "\n",
    "# Show all figures inline.  \n",
    "%matplotlib inline\n",
    "\n",
    "# Add olfaction-prediction to the Python path.  \n",
    "import os\n",
    "import sys\n",
    "curr_path = os.getcwd()\n",
    "gerkin_path = os.path.split(curr_path)[0]\n",
    "olfaction_prediction_path = os.path.split(gerkin_path)[0]\n",
    "sys.path.append(olfaction_prediction_path)\n",
    "import opc_python\n",
    "\n",
    "# Import numerical libraries.  \n",
    "import numpy as np\n",
    "import matplotlib.pyplot as plt"
   ]
  },
  {
   "cell_type": "code",
   "execution_count": 2,
   "metadata": {
    "collapsed": false
   },
   "outputs": [],
   "source": [
    "# Import generic utility modules I wrote to load the data from the tab-delimited text files and to score predictions.  \n",
    "from opc_python.utils import loading, scoring\n",
    "\n",
    "# Import the modules I wrote for actually shaping and fitting the data to the model.  \n",
    "from opc_python.gerkin import dream,fit1,fit2"
   ]
  },
  {
   "cell_type": "code",
   "execution_count": 3,
   "metadata": {
    "collapsed": false
   },
   "outputs": [
    {
     "name": "stdout",
     "output_type": "stream",
     "text": [
      "First ten molecular descriptor types are ['CID', 'complexity from pubmed', 'MW', 'AMW', 'Sv', 'Se', 'Sp', 'Si', 'Mv', 'Me']\n",
      "First ten descriptor values for the first compound are ['126', 93.1, 122.13, 8.142, 10.01, 15.305, 10.193, 16.664, 0.667, 1.02]\n",
      "We have molecular descriptors for 476 unique molecules\n"
     ]
    }
   ],
   "source": [
    "# Load the molecular descriptors data.  \n",
    "molecular_headers, molecular_data = loading.load_molecular_data()\n",
    "print(\"First ten molecular descriptor types are %s\" % molecular_headers[:10])\n",
    "print(\"First ten descriptor values for the first compound are %s\" % molecular_data[0][:10])\n",
    "total_size = len(set([int(row[0]) for row in molecular_data]))\n",
    "print(\"We have molecular descriptors for %d unique molecules\" % total_size)"
   ]
  },
  {
   "cell_type": "code",
   "execution_count": 4,
   "metadata": {
    "collapsed": false
   },
   "outputs": [
    {
     "ename": "NameError",
     "evalue": "name 'rfcs' is not defined",
     "output_type": "error",
     "traceback": [
      "\u001b[0;31m---------------------------------------------------------------------------\u001b[0m",
      "\u001b[0;31mNameError\u001b[0m                                 Traceback (most recent call last)",
      "\u001b[0;32m<ipython-input-4-748c822ac34b>\u001b[0m in \u001b[0;36m<module>\u001b[0;34m()\u001b[0m\n\u001b[1;32m      4\u001b[0m \u001b[0mmatrix_leaderboard\u001b[0m \u001b[0;34m=\u001b[0m \u001b[0mnp\u001b[0m\u001b[0;34m.\u001b[0m\u001b[0mzeros\u001b[0m\u001b[0;34m(\u001b[0m\u001b[0;34m(\u001b[0m\u001b[0mlen\u001b[0m\u001b[0;34m(\u001b[0m\u001b[0mregs\u001b[0m\u001b[0;34m)\u001b[0m\u001b[0;34m,\u001b[0m\u001b[0;36m9\u001b[0m\u001b[0;34m)\u001b[0m\u001b[0;34m)\u001b[0m\u001b[0;34m\u001b[0m\u001b[0m\n\u001b[1;32m      5\u001b[0m \u001b[0;32mfor\u001b[0m \u001b[0mi\u001b[0m\u001b[0;34m,\u001b[0m\u001b[0mreg\u001b[0m \u001b[0;32min\u001b[0m \u001b[0menumerate\u001b[0m\u001b[0;34m(\u001b[0m\u001b[0mregs\u001b[0m\u001b[0;34m)\u001b[0m\u001b[0;34m:\u001b[0m\u001b[0;34m\u001b[0m\u001b[0m\n\u001b[0;32m----> 6\u001b[0;31m     \u001b[0mresult\u001b[0m \u001b[0;34m=\u001b[0m \u001b[0mfit1\u001b[0m\u001b[0;34m.\u001b[0m\u001b[0msubject_regularize\u001b[0m\u001b[0;34m(\u001b[0m\u001b[0mrfcs\u001b[0m\u001b[0;34m,\u001b[0m\u001b[0mX_training\u001b[0m\u001b[0;34m,\u001b[0m\u001b[0mX_training\u001b[0m\u001b[0;34m,\u001b[0m\u001b[0mY_training\u001b[0m\u001b[0;34m,\u001b[0m\u001b[0moob\u001b[0m\u001b[0;34m=\u001b[0m\u001b[0;32mTrue\u001b[0m\u001b[0;34m,\u001b[0m\u001b[0mregularize\u001b[0m\u001b[0;34m=\u001b[0m\u001b[0;34m[\u001b[0m\u001b[0mreg\u001b[0m\u001b[0;34m]\u001b[0m\u001b[0;34m)\u001b[0m\u001b[0;34m\u001b[0m\u001b[0m\n\u001b[0m\u001b[1;32m      7\u001b[0m     \u001b[0mmatrix_training\u001b[0m\u001b[0;34m[\u001b[0m\u001b[0mi\u001b[0m\u001b[0;34m,\u001b[0m\u001b[0;34m:\u001b[0m\u001b[0;34m]\u001b[0m \u001b[0;34m=\u001b[0m \u001b[0mresult\u001b[0m\u001b[0;34m\u001b[0m\u001b[0m\n\u001b[1;32m      8\u001b[0m     \u001b[0mresult\u001b[0m \u001b[0;34m=\u001b[0m \u001b[0mfit1\u001b[0m\u001b[0;34m.\u001b[0m\u001b[0msubject_regularize\u001b[0m\u001b[0;34m(\u001b[0m\u001b[0mrfcs\u001b[0m\u001b[0;34m,\u001b[0m\u001b[0mX_leaderboard_int\u001b[0m\u001b[0;34m,\u001b[0m\u001b[0mX_leaderboard_other\u001b[0m\u001b[0;34m,\u001b[0m\u001b[0mY_leaderboard\u001b[0m\u001b[0;34m,\u001b[0m\u001b[0moob\u001b[0m\u001b[0;34m=\u001b[0m\u001b[0;32mFalse\u001b[0m\u001b[0;34m,\u001b[0m\u001b[0mregularize\u001b[0m\u001b[0;34m=\u001b[0m\u001b[0;34m[\u001b[0m\u001b[0mreg\u001b[0m\u001b[0;34m]\u001b[0m\u001b[0;34m)\u001b[0m\u001b[0;34m\u001b[0m\u001b[0m\n",
      "\u001b[0;31mNameError\u001b[0m: name 'rfcs' is not defined"
     ]
    }
   ],
   "source": [
    "# Figure out parameters for regularization.  \n",
    "regs = np.linspace(0,1,11)\n",
    "matrix_training = np.zeros((len(regs),9))\n",
    "matrix_leaderboard = np.zeros((len(regs),9))\n",
    "for i,reg in enumerate(regs):\n",
    "    result = fit1.subject_regularize(rfcs,X_training,X_training,Y_training,oob=True,regularize=[reg])\n",
    "    matrix_training[i,:] = result\n",
    "    result = fit1.subject_regularize(rfcs,X_leaderboard_int,X_leaderboard_other,Y_leaderboard,oob=False,regularize=[reg])\n",
    "    matrix_leaderboard[i,:] = result\n",
    "\n",
    "for matrix in (matrix_training,matrix_leaderboard):\n",
    "    plt.figure()\n",
    "    matrix /= matrix.max(axis=0)[np.newaxis,:]\n",
    "    plt.pcolor(matrix[:,3],vmin=0.8,vmax=1)"
   ]
  },
  {
   "cell_type": "code",
   "execution_count": null,
   "metadata": {
    "collapsed": false
   },
   "outputs": [],
   "source": [
    "# Determine Lasso performance.  \n",
    "alphas = np.logspace(-2,1,8)\n",
    "lassos1 = {}\n",
    "scores1_train = []\n",
    "scores1_test = []\n",
    "scores2_train = []\n",
    "scores2_test = []\n",
    "for alpha in alphas:\n",
    "    print(alpha)\n",
    "    lassos,score_train,score_test = lasso_(X_training,Y_training_median['subject'],\n",
    "                                          X_leaderboard_int,Y_leaderboard['subject'],\n",
    "                                          1,alpha=alpha,regularize=[0.3,0.3,0.3])\n",
    "    scores1_train.append(score_train[0])\n",
    "    scores1_test.append(score_test[0])\n",
    "    scores2_train.append(score_train[1])\n",
    "    scores2_test.append(score_test[1])\n",
    "    lassos1[alpha] = lassos\n",
    "\n",
    "plt.scatter(alphas,scores1_train,color='b')\n",
    "plt.scatter(alphas,scores1_test,color='r')\n",
    "plt.xscale('log')\n",
    "\n",
    "plt.figure()\n",
    "plt.scatter(alphas,scores2_train,color='b')\n",
    "plt.scatter(alphas,scores2_test,color='r')\n",
    "plt.xscale('log')"
   ]
  },
  {
   "cell_type": "code",
   "execution_count": null,
   "metadata": {
    "collapsed": false
   },
   "outputs": [],
   "source": [
    "estimator1 = Lasso(alpha=0.9,max_iter=5000)\n",
    "estimator2 = Lasso(alpha=0.9,max_iter=5000)\n",
    "estimator1.fit(X_obs,Y_obs['mean_std'][:,1])\n",
    "x = estimator1.coef_\n",
    "estimator2.fit(X_leaderboard,Y_leaderboard['mean_std'][:,1])\n",
    "y = estimator2.coef_\n",
    "plt.scatter(x,y)\n",
    "plt.figure()\n",
    "plt.plot(x,color='r')\n",
    "plt.plot(y,color='b')\n",
    "np.where(x*y > 0.01)"
   ]
  },
  {
   "cell_type": "code",
   "execution_count": null,
   "metadata": {
    "collapsed": false
   },
   "outputs": [],
   "source": [
    "# Determine Lasso performance.  \n",
    "alphas = np.logspace(-2,1,8)\n",
    "lassos1 = {}\n",
    "scores1_train = []\n",
    "scores1_test = []\n",
    "scores2_train = []\n",
    "scores2_test = []\n",
    "for alpha in alphas:\n",
    "    print(alpha)\n",
    "    lassos,score_train,score_test = lasso_(X_training,Y_training_median['mean_std'],\n",
    "                                          X_leaderboard_int,Y_leaderboard['mean_std'],\n",
    "                                          2,alpha=alpha)\n",
    "    scores1_train.append(score_train[0])\n",
    "    scores1_test.append(score_test[0])\n",
    "    scores2_train.append(score_train[1])\n",
    "    scores2_test.append(score_test[1])\n",
    "    lassos1[alpha] = lassos\n",
    "\n",
    "plt.scatter(alphas,scores1_train,color='b')\n",
    "plt.scatter(alphas,scores1_test,color='r')\n",
    "plt.xscale('log')\n",
    "\n",
    "plt.figure()\n",
    "plt.scatter(alphas,scores2_train,color='b')\n",
    "plt.scatter(alphas,scores2_test,color='r')\n",
    "plt.xscale('log')"
   ]
  },
  {
   "cell_type": "code",
   "execution_count": null,
   "metadata": {
    "collapsed": false
   },
   "outputs": [],
   "source": [
    "estimator1 = Lasso(alpha=0.9,max_iter=5000)\n",
    "estimator2 = Lasso(alpha=0.9,max_iter=5000)\n",
    "estimator1.fit(X_obs,Y_obs['mean_std'][:,1])\n",
    "x = estimator1.coef_\n",
    "estimator2.fit(X_leaderboard,Y_leaderboard['mean_std'][:,1])\n",
    "y = estimator2.coef_\n",
    "plt.scatter(x,y)\n",
    "plt.figure()\n",
    "plt.plot(x,color='r')\n",
    "plt.plot(y,color='b')\n",
    "np.where(x*y > 0.01)"
   ]
  },
  {
   "cell_type": "code",
   "execution_count": null,
   "metadata": {
    "collapsed": false
   },
   "outputs": [],
   "source": [
    "# Minimum samples per leaf.  \n",
    "ns = [1,2,4,8,16,32]\n",
    "rs = {n:fit2.rfc_cv(X_all,Y_all_imp['mean_std'],Y_all_mask['mean_std'],n_splits=15,n_estimators=25,min_samples_leaf=n) for n in ns}\n",
    "for kind1 in ['int','ple','dec']:\n",
    "    for kind2 in ['mean','sigma','trans']:\n",
    "        n_ = sorted(list(rs.keys()))[0]\n",
    "        if kind2 in rs[n_][1][kind1]:\n",
    "            means = [rs[n][1][kind1][kind2]['mean'] for n in ns]\n",
    "            sems = [rs[n][1][kind1][kind2]['sem'] for n in ns]\n",
    "            plt.errorbar(ns,means,sems,label=kind1+'_'+kind2)\n",
    "            plt.xscale('log')\n",
    "            plt.xlim(0.5,1000)\n",
    "            plt.xlabel('min_samples_leaf')\n",
    "            plt.ylabel('r')\n",
    "            plt.legend()"
   ]
  },
  {
   "cell_type": "code",
   "execution_count": null,
   "metadata": {
    "collapsed": false
   },
   "outputs": [],
   "source": [
    "# Maximum tree depth.  \n",
    "ns = (2**np.linspace(1,5,9)).astype('int')\n",
    "rs = {n:rfc_cv(X_all,Y_all['mean_std'],n_splits=25,max_depth=n) for n in ns}\n",
    "for kind1 in ['int','ple','dec']:\n",
    "    for kind2 in ['mean','sigma','trans']:\n",
    "        if kind2 in rs[2.0][1][kind1]:\n",
    "            means = [rs[n][1][kind1][kind2]['mean'] for n in ns]\n",
    "            sems = [rs[n][1][kind1][kind2]['sem'] for n in ns]\n",
    "            plt.errorbar(ns,means,sems,label=kind1+'_'+kind2)\n",
    "            plt.xscale('log')\n",
    "            plt.xlabel('Max Depth')\n",
    "            plt.xlim(1,1000)\n",
    "            plt.legend()"
   ]
  },
  {
   "cell_type": "code",
   "execution_count": null,
   "metadata": {
    "collapsed": false
   },
   "outputs": [],
   "source": [
    "Y_training_mask,_ = dream.make_Y_obs(['training'],imputer='mask')\n",
    "Y_training_median,_ = dream.make_Y_obs(['training'],imputer='median')\n",
    "Y_training_zero,_ = dream.make_Y_obs(['training'],imputer='zero')"
   ]
  },
  {
   "cell_type": "code",
   "execution_count": null,
   "metadata": {
    "collapsed": false
   },
   "outputs": [],
   "source": [
    "y = Y_training_mask\n",
    "y_mean = y['mean_std'][:,:21]/100.0\n",
    "y_std = y['mean_std'][:,21:]/100.0"
   ]
  },
  {
   "cell_type": "code",
   "execution_count": null,
   "metadata": {
    "collapsed": false
   },
   "outputs": [],
   "source": [
    "from scipy.optimize import curve_fit\n",
    "x = y_mean[:,0]\n",
    "y = y_std[:,0]\n",
    "def f(x,k0,k1):\n",
    "    return k0*x**(k1*0.5) - k0*x**(k1*2)\n",
    "k0,k1=curve_fit(f,x,y,p0=[0.7,1],maxfev=10000)[0]\n",
    "print(\"k0=%.3g; k1=%.3g\" % (k0,k1))\n",
    "plt.scatter(x,y,label='Data')\n",
    "x_ = np.linspace(0,1.0,100)\n",
    "plt.plot(x_,f(x_,k0,k1),color='r',linewidth=3,label='Fit')\n",
    "plt.xlabel('Intensity Mean')\n",
    "plt.ylabel('Intensity StDev')\n",
    "plt.legend()\n",
    "plt.figure()\n",
    "plt.scatter(x,y-f(x,k0,k1))\n",
    "def f_int(x):\n",
    "    return 100*(k0*(x/100)**(k1*0.5) - k0*(x/100)**(k1*2))\n",
    "\n",
    "#print('r using fit itself = %.3g' % scoring.r2(None,None,rfcs[2][0][3].oob_prediction_[:,21],Y_training['mean_std'][:,21]))\n",
    "#print('r using f_int = %.3g' % scoring.r2(None,None,f_int(rfcs[2][0][0].oob_prediction_[:,0]),Y_training['mean_std'][:,21]))\n",
    "#print('r using f_int = %.3g' % scoring.r2(None,None,rfcs[2][0][0].oob_prediction_[:,0],Y_training['mean_std'][:,0]))"
   ]
  },
  {
   "cell_type": "code",
   "execution_count": null,
   "metadata": {
    "collapsed": false
   },
   "outputs": [],
   "source": [
    "from scipy.optimize import curve_fit\n",
    "x = y_mean[:,1]\n",
    "y = y_std[:,1]\n",
    "def f(x,k0,k1):\n",
    "    return k0*x**(k1*0.5) - k0*x**(k1*2)\n",
    "k0,k1=curve_fit(f,x,y,p0=[0.7,1])[0]\n",
    "print(k0,k1)\n",
    "plt.scatter(x,y,label='Data')\n",
    "x_ = np.linspace(0,1.0,100)\n",
    "plt.plot(x_,f(x_,k0,k1),color='r',linewidth=3,label='Fit')\n",
    "plt.xlabel('Pleasantness Mean')\n",
    "plt.ylabel('Pleasantness StDev')\n",
    "plt.legend()\n",
    "plt.legend()\n",
    "plt.figure()\n",
    "plt.scatter(x,y-f(x,k0,k1))\n",
    "def f_ple(x):\n",
    "    return 100*(k0*(x/100)**(k1*0.5) - k0*(x/100)**(k1*2))"
   ]
  },
  {
   "cell_type": "code",
   "execution_count": null,
   "metadata": {
    "collapsed": false
   },
   "outputs": [],
   "source": [
    "from scipy.optimize import curve_fit\n",
    "x = y_mean[:,2:21].ravel()\n",
    "y = y_std[:,2:21].ravel()\n",
    "def f(x,k0,k1):\n",
    "    return k0*x**(k1*0.5) - k0*x**(k1*2)\n",
    "k0,k1=curve_fit(f,x,y,p0=[0.7,1])[0]\n",
    "print(k0,k1)\n",
    "plt.scatter(x,y,label='Data')#Y_obs['mean_std'][:,0],Y_obs['mean_std'][:,21])\n",
    "x_ = np.linspace(0,1.0,100)\n",
    "plt.plot(x_,f(x_,k0,k1),color='r',linewidth=3,label='Fit')\n",
    "plt.xlabel('Other Descriptors Mean')\n",
    "plt.ylabel('Other Descriptors StDev')\n",
    "plt.legend()\n",
    "plt.legend()\n",
    "plt.figure()\n",
    "plt.scatter(x,y-f(x,k0,k1))\n",
    "def f_dec(x):\n",
    "    return 100*(k0*(x/100)**(k1*0.5) - k0*(x/100)**(k1*2))"
   ]
  },
  {
   "cell_type": "code",
   "execution_count": null,
   "metadata": {
    "collapsed": false
   },
   "outputs": [],
   "source": [
    "# Plot r vs the maximum number of features per tree for subchallenge 2.  \n",
    "ns = np.logspace(1,3.48,12).astype('int')\n",
    "rs = {10: ({'mean': 4.5287503680444283, 'sem': 0.13714615321987517},\n",
    "  {'dec': {'mean': {'mean': 0.35741904017752996, 'sem': 0.010048318402360087},\n",
    "    'sigma': {'mean': 0.26364038011571522, 'sem': 0.0066697475868345195}},\n",
    "   'int': {'mean': {'mean': 0.095846326633119261, 'sem': 0.011534906168037609},\n",
    "    'sigma': {'mean': -0.19442773962706283, 'sem': 0.013246295480355922},\n",
    "    'trans': {'mean': -0.14841245979725629, 'sem': 0.014477101914558255}},\n",
    "   'ple': {'mean': {'mean': 0.56265800877494421, 'sem': 0.013762511615746981},\n",
    "    'sigma': {'mean': 0.078114653930579078, 'sem': 0.013059909526612193}}}),\n",
    " 16: ({'mean': 4.2762653281962626, 'sem': 0.14630142507898916},\n",
    "  {'dec': {'mean': {'mean': 0.33607958258692089, 'sem': 0.010755178194062617},\n",
    "    'sigma': {'mean': 0.24953806713067767, 'sem': 0.0072430177045214993}},\n",
    "   'int': {'mean': {'mean': 0.080597860297553225, 'sem': 0.010328564454501418},\n",
    "    'sigma': {'mean': -0.1831432623519923, 'sem': 0.015823665199024079},\n",
    "    'trans': {'mean': -0.1339838955094253, 'sem': 0.016009654970459093}},\n",
    "   'ple': {'mean': {'mean': 0.53454801842938016, 'sem': 0.013648074163107654},\n",
    "    'sigma': {'mean': 0.083599248367205059, 'sem': 0.010150692008152835}}}),\n",
    " 28: ({'mean': 4.4701678025412317, 'sem': 0.14599522051390151},\n",
    "  {'dec': {'mean': {'mean': 0.34870707634403841, 'sem': 0.010376725741241408},\n",
    "    'sigma': {'mean': 0.26167957616840015, 'sem': 0.0076003340767839701}},\n",
    "   'int': {'mean': {'mean': 0.10319739802052659, 'sem': 0.014246267245439325},\n",
    "    'sigma': {'mean': -0.19009823259725972, 'sem': 0.011209139395029032},\n",
    "    'trans': {'mean': -0.11650510017477485, 'sem': 0.012928859605985615}},\n",
    "   'ple': {'mean': {'mean': 0.5430733968547149, 'sem': 0.014784953521207751},\n",
    "    'sigma': {'mean': 0.090061683509025339, 'sem': 0.012478688832880159}}}),\n",
    " 47: ({'mean': 4.7253857892800202, 'sem': 0.1014228402373675},\n",
    "  {'dec': {'mean': {'mean': 0.36463523931447767, 'sem': 0.0077892818476017877},\n",
    "    'sigma': {'mean': 0.27848648194260939, 'sem': 0.0055596404826221855}},\n",
    "   'int': {'mean': {'mean': 0.12456193164028778, 'sem': 0.011020750201587774},\n",
    "    'sigma': {'mean': -0.19581291085950936, 'sem': 0.012204784570451606},\n",
    "    'trans': {'mean': -0.096822889766287681, 'sem': 0.015292940589798586}},\n",
    "   'ple': {'mean': {'mean': 0.55871347758289436, 'sem': 0.010607290634184519},\n",
    "    'sigma': {'mean': 0.098940792262160057, 'sem': 0.011444230404422117}}}),\n",
    " 79: ({'mean': 4.5948586693250224, 'sem': 0.14140871753848633},\n",
    "  {'dec': {'mean': {'mean': 0.35349151004259566, 'sem': 0.010578871458227949},\n",
    "    'sigma': {'mean': 0.26451399172704326, 'sem': 0.0073617384376021807}},\n",
    "   'int': {'mean': {'mean': 0.15749460124159698, 'sem': 0.014409412612637526},\n",
    "    'sigma': {'mean': -0.2013942721149391, 'sem': 0.013305349700475404},\n",
    "    'trans': {'mean': -0.060088766676318579, 'sem': 0.017177634996689763}},\n",
    "   'ple': {'mean': {'mean': 0.53488235662014261, 'sem': 0.012547643369955928},\n",
    "    'sigma': {'mean': 0.10970476070408371, 'sem': 0.0094896634896857648}}}),\n",
    " 134: ({'mean': 4.8539751223104419, 'sem': 0.1162501624649929},\n",
    "  {'dec': {'mean': {'mean': 0.35652418608559755, 'sem': 0.0087043702461469703},\n",
    "    'sigma': {'mean': 0.27728883132036353, 'sem': 0.0059275683871883537}},\n",
    "   'int': {'mean': {'mean': 0.19200644382156473, 'sem': 0.012530863162805508},\n",
    "    'sigma': {'mean': -0.1664127104350237, 'sem': 0.014727246170865512},\n",
    "    'trans': {'mean': -0.0050509811396929442, 'sem': 0.013512400586764228}},\n",
    "   'ple': {'mean': {'mean': 0.54832750777745565, 'sem': 0.0098732363104831779},\n",
    "    'sigma': {'mean': 0.14384012732930848, 'sem': 0.013526458292162615}}}),\n",
    " 225: ({'mean': 4.9870061127976335, 'sem': 0.081148988667772787},\n",
    "  {'dec': {'mean': {'mean': 0.35920173978820247, 'sem': 0.005771214032598007},\n",
    "    'sigma': {'mean': 0.28571600997788305, 'sem': 0.0044894837783576776}},\n",
    "   'int': {'mean': {'mean': 0.20899398507098751, 'sem': 0.0089409157503288449},\n",
    "    'sigma': {'mean': -0.1625729228151592, 'sem': 0.012846884683828403},\n",
    "    'trans': {'mean': -0.00029354436544479738, 'sem': 0.013363608550869724}},\n",
    "   'ple': {'mean': {'mean': 0.54321470659037041, 'sem': 0.0084886147095966039},\n",
    "    'sigma': {'mean': 0.17407163721666641, 'sem': 0.010335404716236968}}}),\n",
    " 378: ({'mean': 5.2309187208238734, 'sem': 0.10196943375487943},\n",
    "  {'dec': {'mean': {'mean': 0.36222194098676708, 'sem': 0.007045483436985178},\n",
    "    'sigma': {'mean': 0.28748525876153946, 'sem': 0.0047622927467698851}},\n",
    "   'int': {'mean': {'mean': 0.30763309255762561, 'sem': 0.010489674520969026},\n",
    "    'sigma': {'mean': -0.13437720563989827, 'sem': 0.015216850317463513},\n",
    "    'trans': {'mean': 0.077208246830087784, 'sem': 0.016776811806067937}},\n",
    "   'ple': {'mean': {'mean': 0.51666345722264007, 'sem': 0.012102754509798147},\n",
    "    'sigma': {'mean': 0.22387777822938859, 'sem': 0.012002426045896302}}}),\n",
    " 636: ({'mean': 5.2783150795158216, 'sem': 0.13760824709660485},\n",
    "  {'dec': {'mean': {'mean': 0.34389494434882933, 'sem': 0.010619378453447091},\n",
    "    'sigma': {'mean': 0.28352414027492062, 'sem': 0.0073509746683288425}},\n",
    "   'int': {'mean': {'mean': 0.3772666034669338, 'sem': 0.0089725357164009943},\n",
    "    'sigma': {'mean': -0.070406052406278383, 'sem': 0.013146427411079784},\n",
    "    'trans': {'mean': 0.12848715202789562, 'sem': 0.013902235706203112}},\n",
    "   'ple': {'mean': {'mean': 0.47628383046916783, 'sem': 0.012710721163219313},\n",
    "    'sigma': {'mean': 0.26026415548531601, 'sem': 0.010394694087536604}}}),\n",
    " 1069: ({'mean': 5.3546828132513324, 'sem': 0.12890359059613288},\n",
    "  {'dec': {'mean': {'mean': 0.33732613917980125, 'sem': 0.008720117607173207},\n",
    "    'sigma': {'mean': 0.27622741774403192, 'sem': 0.0071757382362265653}},\n",
    "   'int': {'mean': {'mean': 0.43133470244978406, 'sem': 0.010878799280296147},\n",
    "    'sigma': {'mean': -0.026361142275758507, 'sem': 0.015099084255438586},\n",
    "    'trans': {'mean': 0.13238543687124554, 'sem': 0.018554714187045213}},\n",
    "   'ple': {'mean': {'mean': 0.43199201719291991, 'sem': 0.014489942433701003},\n",
    "    'sigma': {'mean': 0.31700085937001704, 'sem': 0.013427424445132865}}}),\n",
    " 1796: ({'mean': 5.5498459671689746, 'sem': 0.13681528903807455},\n",
    "  {'dec': {'mean': {'mean': 0.32179820864086328, 'sem': 0.0094069815127022019},\n",
    "    'sigma': {'mean': 0.27898990045943434, 'sem': 0.0065779356885316484}},\n",
    "   'int': {'mean': {'mean': 0.51764555751818397, 'sem': 0.012206761954778787},\n",
    "    'sigma': {'mean': 0.055523211752833854, 'sem': 0.01355106954720255},\n",
    "    'trans': {'mean': 0.18963409134717207, 'sem': 0.017923968933286152}},\n",
    "   'ple': {'mean': {'mean': 0.3943537656955719, 'sem': 0.012444820366012996},\n",
    "    'sigma': {'mean': 0.37983842127958406, 'sem': 0.013840079795020142}}}),\n",
    " 3019: ({'mean': 5.3932719860365959, 'sem': 0.13908557141359157},\n",
    "  {'dec': {'mean': {'mean': 0.30618849055096442, 'sem': 0.0095607486607533522},\n",
    "    'sigma': {'mean': 0.26814972696669526, 'sem': 0.0062064562069586047}},\n",
    "   'int': {'mean': {'mean': 0.53539506258094605, 'sem': 0.012949449933710522},\n",
    "    'sigma': {'mean': 0.060942920358335699, 'sem': 0.013911404385486428},\n",
    "    'trans': {'mean': 0.17382531945634028, 'sem': 0.019449794276195469}},\n",
    "   'ple': {'mean': {'mean': 0.35777486592782493, 'sem': 0.014959772093079271},\n",
    "    'sigma': {'mean': 0.3948171320652123, 'sem': 0.014163182412156508}}})}\n",
    "\n",
    "for kind1 in ['int','ple','dec']:\n",
    "    for kind2 in ['mean','sigma','trans']:\n",
    "        if kind2 in rs[10][1][kind1]:\n",
    "            means = [rs[n][1][kind1][kind2]['mean'] for n in ns]\n",
    "            sems = [rs[n][1][kind1][kind2]['sem'] for n in ns]\n",
    "            plt.errorbar(ns,means,sems,label=kind1+'_'+kind2)\n",
    "            plt.xscale('log')\n",
    "            plt.xlim(10,100000)\n",
    "            plt.legend()"
   ]
  },
  {
   "cell_type": "code",
   "execution_count": null,
   "metadata": {
    "collapsed": false
   },
   "outputs": [],
   "source": [
    "# Plot r vs the maximum number of features per tree for subchallenge 1.  \n",
    "ns = np.logspace(1,3.48,12).astype('int')\n",
    "rs = {10: ({'mean': 14.626823924339622, 'sem': 0.67293213710441813},\n",
    "  {'dec': {'mean': 0.1115032164997066, 'sem': 0.0049366842404788515},\n",
    "   'int': {'mean': 0.063175885345557098, 'sem': 0.011757087396024829},\n",
    "   'ple': {'mean': 0.24558507250578115, 'sem': 0.010251468787021155}}),\n",
    " 16: ({'mean': 16.592630198674783, 'sem': 0.57970873096949382},\n",
    "  {'dec': {'mean': 0.12771997189368894, 'sem': 0.005640659238315947},\n",
    "   'int': {'mean': 0.068220206630371344, 'sem': 0.0097569244354709563},\n",
    "   'ple': {'mean': 0.27667611992206365, 'sem': 0.0088230434191277924}}),\n",
    " 28: ({'mean': 17.001787805562639, 'sem': 0.52905721649550286},\n",
    "  {'dec': {'mean': 0.1274005373522745, 'sem': 0.0056496569190668585},\n",
    "   'int': {'mean': 0.097336893904010763, 'sem': 0.010542390181966255},\n",
    "   'ple': {'mean': 0.27221428344252996, 'sem': 0.0057676157734840184}}),\n",
    " 47: ({'mean': 14.981979294390715, 'sem': 0.51799581666082983},\n",
    "  {'dec': {'mean': 0.11219535109392517, 'sem': 0.0052548441399689312},\n",
    "   'int': {'mean': 0.075689638817071039, 'sem': 0.006293064770536495},\n",
    "   'ple': {'mean': 0.24965925218067012, 'sem': 0.0078836451477239354}}),\n",
    " 79: ({'mean': 15.81419214971354, 'sem': 1.3142988376383489},\n",
    "  {'dec': {'mean': 0.11709726161501317, 'sem': 0.009452935255343145},\n",
    "   'int': {'mean': 0.10696881918664522, 'sem': 0.024092414574482853},\n",
    "   'ple': {'mean': 0.24361952303212289, 'sem': 0.013546580983435055}}),\n",
    " 134: ({'mean': 15.865602192053283, 'sem': 0.68405017387517886},\n",
    "  {'dec': {'mean': 0.11562109914684, 'sem': 0.0053868071673007136},\n",
    "   'int': {'mean': 0.097934326116037654, 'sem': 0.021095231703079462},\n",
    "   'ple': {'mean': 0.26102284924556374, 'sem': 0.0067083817314546228}}),\n",
    " 225: ({'mean': 17.318745662215576, 'sem': 0.59125172502595269},\n",
    "  {'dec': {'mean': 0.11917748796457502, 'sem': 0.0038042932435202806},\n",
    "   'int': {'mean': 0.16193085269478602, 'sem': 0.018867845750103893},\n",
    "   'ple': {'mean': 0.26261383679004585, 'sem': 0.0059204822078491549}}),\n",
    " 378: ({'mean': 15.934339306208141, 'sem': 0.45211081563147515},\n",
    "  {'dec': {'mean': 0.1083938313372175, 'sem': 0.0052862145544272723},\n",
    "   'int': {'mean': 0.16475683550258524, 'sem': 0.009235021958794153},\n",
    "   'ple': {'mean': 0.23204608901107826, 'sem': 0.0059273034875685525}}),\n",
    " 636: ({'mean': 15.771761053703225, 'sem': 0.74466463785302328},\n",
    "  {'dec': {'mean': 0.10312794275339685, 'sem': 0.0049585966863074571},\n",
    "   'int': {'mean': 0.202790369126047, 'sem': 0.016817041589260329},\n",
    "   'ple': {'mean': 0.20973227107129092, 'sem': 0.0082837468624166466}}),\n",
    " 1069: ({'mean': 17.554725518233688, 'sem': 0.40722588984168068},\n",
    "  {'dec': {'mean': 0.11081691637979074, 'sem': 0.002969119102252506},\n",
    "   'int': {'mean': 0.24713787336311413, 'sem': 0.0034750441857333502},\n",
    "   'ple': {'mean': 0.22991350637065663, 'sem': 0.0088152286906102353}}),\n",
    " 1796: ({'mean': 15.842837013180731, 'sem': 1.1021490359940003},\n",
    "  {'dec': {'mean': 0.095404715725000269, 'sem': 0.0086366687854054283},\n",
    "   'int': {'mean': 0.24647214944115894, 'sem': 0.009001181733327009},\n",
    "   'ple': {'mean': 0.20473681688185336, 'sem': 0.024290004669442054}}),\n",
    " 3019: ({'mean': 14.559636621415361, 'sem': 0.87558204964710695},\n",
    "  {'dec': {'mean': 0.082906650297182763, 'sem': 0.0063709138354757526},\n",
    "   'int': {'mean': 0.27934768414882283, 'sem': 0.013820164346925809},\n",
    "   'ple': {'mean': 0.15841500207406473, 'sem': 0.013952809590184693}})}\n",
    "\n",
    "for kind in ['int','ple','dec']:\n",
    "    means = [rs[n][1][kind]['mean'] for n in ns]\n",
    "    sems = [rs[n][1][kind]['sem'] for n in ns]\n",
    "    plt.errorbar(ns,means,sems,label=kind)\n",
    "    plt.xscale('log')\n",
    "    plt.xlim(10,100000)\n",
    "    plt.xlabel('max_features')\n",
    "    plt.legend()"
   ]
  },
  {
   "cell_type": "code",
   "execution_count": 22,
   "metadata": {
    "collapsed": false
   },
   "outputs": [],
   "source": [
    "# Using n_splits=40,max_features=1500.\n",
    "string = \"\"\"\n",
    "1,1\n",
    "    int_mean = 0.382+/- 0.012\n",
    "    ple_mean = 0.170+/- 0.011\n",
    "    dec_mean = 0.167+/- 0.005\n",
    "    int_sigma = 0.093+/- 0.008\n",
    "    ple_sigma = 0.337+/- 0.011\n",
    "    dec_sigma = 0.168+/- 0.005\n",
    "    int_trans = 0.111+/- 0.007\n",
    "1,2 \n",
    "int_mean = 0.402+/- 0.011\n",
    "    ple_mean = 0.221+/- 0.013\n",
    "    dec_mean = 0.201+/- 0.007\n",
    "    int_sigma = 0.119+/- 0.008\n",
    "    ple_sigma = 0.360+/- 0.010\n",
    "    dec_sigma = 0.197+/- 0.006\n",
    "    int_trans = 0.141+/- 0.010\n",
    "1,4\n",
    " int_mean = 0.444+/- 0.010\n",
    "    ple_mean = 0.311+/- 0.010\n",
    "    dec_mean = 0.258+/- 0.005\n",
    "    int_sigma = 0.108+/- 0.012\n",
    "    ple_sigma = 0.396+/- 0.008\n",
    "    dec_sigma = 0.245+/- 0.005\n",
    "    int_trans = 0.147+/- 0.012\n",
    "1,8\n",
    " int_mean = 0.475+/- 0.010\n",
    "    ple_mean = 0.399+/- 0.011\n",
    "    dec_mean = 0.324+/- 0.008\n",
    "    int_sigma = 0.049+/- 0.010\n",
    "    ple_sigma = 0.390+/- 0.008\n",
    "    dec_sigma = 0.290+/- 0.006\n",
    "    int_trans = 0.148+/- 0.013\n",
    "1,16\n",
    "int_mean = 0.472+/- 0.010\n",
    "    ple_mean = 0.396+/- 0.012\n",
    "    dec_mean = 0.315+/- 0.008\n",
    "    int_sigma = 0.023+/- 0.010\n",
    "    ple_sigma = 0.360+/- 0.009\n",
    "    dec_sigma = 0.272+/- 0.005\n",
    "    int_trans = 0.187+/- 0.010\n",
    "2,1\n",
    " int_mean = 0.371+/- 0.009\n",
    "    ple_mean = 0.176+/- 0.012\n",
    "    dec_mean = 0.167+/- 0.004\n",
    "    int_sigma = 0.117+/- 0.010\n",
    "    ple_sigma = 0.334+/- 0.008\n",
    "    dec_sigma = 0.169+/- 0.004\n",
    "    int_trans = 0.137+/- 0.009\n",
    "2,2\n",
    " int_mean = 0.423+/- 0.009\n",
    "    ple_mean = 0.208+/- 0.011\n",
    "    dec_mean = 0.202+/- 0.006\n",
    "    int_sigma = 0.130+/- 0.009\n",
    "    ple_sigma = 0.380+/- 0.009\n",
    "    dec_sigma = 0.200+/- 0.005\n",
    "    int_trans = 0.160+/- 0.009\n",
    "2,4 \n",
    "int_mean = 0.446+/- 0.009\n",
    "    ple_mean = 0.301+/- 0.013\n",
    "    dec_mean = 0.252+/- 0.006\n",
    "    int_sigma = 0.090+/- 0.010\n",
    "    ple_sigma = 0.380+/- 0.008\n",
    "    dec_sigma = 0.238+/- 0.005\n",
    "    int_trans = 0.127+/- 0.013\n",
    "2,8 \n",
    "int_mean = 0.473+/- 0.011\n",
    "    ple_mean = 0.366+/- 0.014\n",
    "    dec_mean = 0.300+/- 0.008\n",
    "    int_sigma = 0.060+/- 0.010\n",
    "    ple_sigma = 0.396+/- 0.010\n",
    "    dec_sigma = 0.278+/- 0.006\n",
    "    int_trans = 0.171+/- 0.011\n",
    "2,16\n",
    "int_mean = 0.475+/- 0.010\n",
    "    ple_mean = 0.396+/- 0.012\n",
    "    dec_mean = 0.315+/- 0.007\n",
    "    int_sigma = 0.020+/- 0.012\n",
    "    ple_sigma = 0.378+/- 0.009\n",
    "    dec_sigma = 0.281+/- 0.005\n",
    "    int_trans = 0.167+/- 0.014\n",
    "4,1\n",
    " int_mean = 0.380+/- 0.012\n",
    "    ple_mean = 0.159+/- 0.010\n",
    "    dec_mean = 0.165+/- 0.005\n",
    "    int_sigma = 0.119+/- 0.010\n",
    "    ple_sigma = 0.345+/- 0.010\n",
    "    dec_sigma = 0.166+/- 0.005\n",
    "    int_trans = 0.137+/- 0.011\n",
    "4,2\n",
    " int_mean = 0.417+/- 0.009\n",
    "    ple_mean = 0.216+/- 0.013\n",
    "    dec_mean = 0.200+/- 0.004\n",
    "    int_sigma = 0.129+/- 0.011\n",
    "    ple_sigma = 0.375+/- 0.010\n",
    "    dec_sigma = 0.198+/- 0.004\n",
    "    int_trans = 0.147+/- 0.010\n",
    "4,4\n",
    " int_mean = 0.458+/- 0.010\n",
    "    ple_mean = 0.287+/- 0.014\n",
    "    dec_mean = 0.246+/- 0.007\n",
    "    int_sigma = 0.110+/- 0.012\n",
    "    ple_sigma = 0.383+/- 0.011\n",
    "    dec_sigma = 0.238+/- 0.007\n",
    "    int_trans = 0.144+/- 0.014\n",
    "4,8\n",
    " int_mean = 0.454+/- 0.010\n",
    "    ple_mean = 0.348+/- 0.013\n",
    "    dec_mean = 0.280+/- 0.006\n",
    "    int_sigma = 0.054+/- 0.012\n",
    "    ple_sigma = 0.371+/- 0.011\n",
    "    dec_sigma = 0.261+/- 0.005\n",
    "    int_trans = 0.136+/- 0.011\n",
    "4,16\n",
    "int_mean = 0.444+/- 0.011\n",
    "    ple_mean = 0.355+/- 0.011\n",
    "    dec_mean = 0.279+/- 0.006\n",
    "    int_sigma = 0.016+/- 0.007\n",
    "    ple_sigma = 0.365+/- 0.010\n",
    "    dec_sigma = 0.260+/- 0.005\n",
    "    int_trans = 0.133+/- 0.010\n",
    "8,1 \n",
    "int_mean = 0.366+/- 0.011\n",
    "    ple_mean = 0.185+/- 0.012\n",
    "    dec_mean = 0.161+/- 0.005\n",
    "    int_sigma = 0.109+/- 0.012\n",
    "    ple_sigma = 0.333+/- 0.011\n",
    "    dec_sigma = 0.164+/- 0.005\n",
    "    int_trans = 0.128+/- 0.011\n",
    "8,2 \n",
    "int_mean = 0.408+/- 0.009\n",
    "    ple_mean = 0.215+/- 0.012\n",
    "    dec_mean = 0.196+/- 0.004\n",
    "    int_sigma = 0.118+/- 0.011\n",
    "    ple_sigma = 0.355+/- 0.011\n",
    "    dec_sigma = 0.194+/- 0.004\n",
    "    int_trans = 0.134+/- 0.011\n",
    "8,4    \n",
    "int_mean = 0.454+/- 0.010\n",
    "    ple_mean = 0.267+/- 0.013\n",
    "    dec_mean = 0.230+/- 0.007\n",
    "    int_sigma = 0.105+/- 0.011\n",
    "    ple_sigma = 0.386+/- 0.011\n",
    "    dec_sigma = 0.224+/- 0.006\n",
    "    int_trans = 0.151+/- 0.010\n",
    "8,8    \n",
    "int_mean = 0.461+/- 0.010\n",
    "    ple_mean = 0.310+/- 0.009\n",
    "    dec_mean = 0.253+/- 0.006\n",
    "    int_sigma = 0.071+/- 0.011\n",
    "    ple_sigma = 0.375+/- 0.009\n",
    "    dec_sigma = 0.242+/- 0.005\n",
    "    int_trans = 0.120+/- 0.012\n",
    "8,16    \n",
    "    int_mean = 0.461+/- 0.009\n",
    "    ple_mean = 0.315+/- 0.012\n",
    "    dec_mean = 0.254+/- 0.005\n",
    "    int_sigma = 0.063+/- 0.011\n",
    "    ple_sigma = 0.369+/- 0.007\n",
    "    dec_sigma = 0.245+/- 0.005\n",
    "    int_trans = 0.135+/- 0.011\n",
    "16,1    \n",
    "    int_mean = 0.396+/- 0.009\n",
    "    ple_mean = 0.190+/- 0.011\n",
    "    dec_mean = 0.170+/- 0.004\n",
    "    int_sigma = 0.103+/- 0.012\n",
    "    ple_sigma = 0.347+/- 0.009\n",
    "    dec_sigma = 0.175+/- 0.005\n",
    "    int_trans = 0.121+/- 0.012\n",
    "16,2    \n",
    "    int_mean = 0.424+/- 0.011\n",
    "    ple_mean = 0.212+/- 0.010\n",
    "    dec_mean = 0.191+/- 0.005\n",
    "    int_sigma = 0.114+/- 0.011\n",
    "    ple_sigma = 0.356+/- 0.011\n",
    "    dec_sigma = 0.194+/- 0.005\n",
    "    int_trans = 0.138+/- 0.011\n",
    "16,4    \n",
    "    int_mean = 0.439+/- 0.009\n",
    "    ple_mean = 0.235+/- 0.010\n",
    "    dec_mean = 0.212+/- 0.005\n",
    "    int_sigma = 0.125+/- 0.011\n",
    "    ple_sigma = 0.374+/- 0.009\n",
    "    dec_sigma = 0.211+/- 0.005\n",
    "    int_trans = 0.142+/- 0.013\n",
    "16,8    \n",
    "    int_mean = 0.463+/- 0.008\n",
    "    ple_mean = 0.263+/- 0.011\n",
    "    dec_mean = 0.231+/- 0.005\n",
    "    int_sigma = 0.100+/- 0.011\n",
    "    ple_sigma = 0.385+/- 0.010\n",
    "    dec_sigma = 0.227+/- 0.005\n",
    "    int_trans = 0.138+/- 0.012\n",
    "16,16\n",
    "    int_mean = 0.469+/- 0.011\n",
    "    ple_mean = 0.265+/- 0.012\n",
    "    dec_mean = 0.230+/- 0.006\n",
    "    int_sigma = 0.104+/- 0.011\n",
    "    ple_sigma = 0.392+/- 0.011\n",
    "    dec_sigma = 0.228+/- 0.005\n",
    "    int_trans = 0.129+/- 0.012\n",
    "\"\"\""
   ]
  },
  {
   "cell_type": "code",
   "execution_count": 23,
   "metadata": {
    "collapsed": false
   },
   "outputs": [],
   "source": [
    "kinds = ['int','ple','dec']\n",
    "moments = ['mean','sigma','trans']\n",
    "rs_leaf_depth = {}\n",
    "for kind in kinds:\n",
    "    rs_leaf_depth[kind] = {}\n",
    "    for moment in moments:\n",
    "        if moment != 'trans' or kind == 'int':\n",
    "            rs_leaf_depth[kind][moment] = np.zeros((5,5))\n",
    "for line in string.split('\\n'):\n",
    "    if ',' in line:\n",
    "        leaf,depth = [int(_) for _ in line.split(',')]\n",
    "    if '+/-' in line:\n",
    "        kind = line.split('=')[0].strip()\n",
    "        kind,moment = kind.split('_')\n",
    "        mean = float(line.split('=')[1].split('+/-')[0].strip())\n",
    "        rs_leaf_depth[kind][moment][int(np.log(leaf)/np.log(2)),int(np.log(depth)/np.log(2))] = mean"
   ]
  },
  {
   "cell_type": "code",
   "execution_count": 35,
   "metadata": {
    "collapsed": false
   },
   "outputs": [
    {
     "data": {
      "image/png": "[encoded data removed]",
      "text/plain": [
       "<matplotlib.figure.Figure at 0x1085d0cf8>"
      ]
     },
     "metadata": {},
     "output_type": "display_data"
    },
    {
     "data": {
      "image/png": "[encoded data removed]",
      "text/plain": [
       "<matplotlib.figure.Figure at 0x10bc1bda0>"
      ]
     },
     "metadata": {},
     "output_type": "display_data"
    },
    {
     "data": {
      "image/png": "[encoded data removed]",
      "text/plain": [
       "<matplotlib.figure.Figure at 0x10bfd0ef0>"
      ]
     },
     "metadata": {},
     "output_type": "display_data"
    },
    {
     "data": {
      "image/png": "[encoded data removed]",
      "text/plain": [
       "<matplotlib.figure.Figure at 0x10c4e7630>"
      ]
     },
     "metadata": {},
     "output_type": "display_data"
    },
    {
     "data": {
      "image/png": "[encoded data removed]",
      "text/plain": [
       "<matplotlib.figure.Figure at 0x10c647ef0>"
      ]
     },
     "metadata": {},
     "output_type": "display_data"
    },
    {
     "data": {
      "image/png": "[encoded data removed]",
      "text/plain": [
       "<matplotlib.figure.Figure at 0x10c457a20>"
      ]
     },
     "metadata": {},
     "output_type": "display_data"
    },
    {
     "data": {
      "image/png": "[encoded data removed]",
      "text/plain": [
       "<matplotlib.figure.Figure at 0x1065f19b0>"
      ]
     },
     "metadata": {},
     "output_type": "display_data"
    }
   ],
   "source": [
    "for kind in kinds:\n",
    "    for moment in moments:\n",
    "        if moment != 'trans' or kind == 'int':\n",
    "            plt.figure()\n",
    "            plt.xlabel('max_depth')\n",
    "            plt.ylabel('min_leaf')\n",
    "            plt.title('%s_%s' % (kind,moment))\n",
    "            ax = plt.gca()\n",
    "            ax.set_xticklabels([1,2,4,8,16])\n",
    "            ax.set_yticklabels([1,2,4,8,16])\n",
    "            plt.pcolor(rs_leaf_depth[kind][moment])\n",
    "            plt.colorbar(label='r')"
   ]
  },
  {
   "cell_type": "code",
   "execution_count": null,
   "metadata": {
    "collapsed": false
   },
   "outputs": [],
   "source": [
    "\"\"\"\n",
    "With rf:\n",
    "For subchallenge 2, using cross-validation with:\n",
    "        at most 1000 features:\n",
    "        at least 1 samples per leaf:\n",
    "        at most None depth:\n",
    "        score = 4.65+/- 0.13\n",
    "        int_mean = 0.417+/- 0.010\n",
    "        ple_mean = 0.446+/- 0.014\n",
    "        dec_mean = 0.302+/- 0.010\n",
    "        int_sigma = -0.018+/- 0.014\n",
    "        ple_sigma = 0.167+/- 0.014\n",
    "        dec_sigma = 0.230+/- 0.007\n",
    "        int_trans = 0.161+/- 0.011\n",
    "        \n",
    "With et:\n",
    "For subchallenge 2, using cross-validation with:\n",
    "        at most 1000 features:\n",
    "        at least 1 samples per leaf:\n",
    "        at most None depth:\n",
    "        score = 4.87+/- 0.13\n",
    "        int_mean = 0.594+/- 0.010\n",
    "        ple_mean = 0.424+/- 0.017\n",
    "        dec_mean = 0.294+/- 0.010\n",
    "        int_sigma = 0.023+/- 0.020\n",
    "        ple_sigma = 0.129+/- 0.014\n",
    "        dec_sigma = 0.238+/- 0.008\n",
    "        int_trans = 0.279+/- 0.012\n"
   ]
  }
 ],
 "metadata": {
  "kernelspec": {
   "display_name": "Python 3",
   "language": "python",
   "name": "python3"
  },
  "language_info": {
   "codemirror_mode": {
    "name": "ipython",
    "version": 3
   },
   "file_extension": ".py",
   "mimetype": "text/x-python",
   "name": "python",
   "nbconvert_exporter": "python",
   "pygments_lexer": "ipython3",
   "version": "3.4.1"
  }
 },
 "nbformat": 4,
 "nbformat_minor": 0
}
